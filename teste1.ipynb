{
 "cells": [
  {
   "cell_type": "code",
   "execution_count": null,
   "id": "3cd5a530",
   "metadata": {},"outputs": [
    {
     "name": "stdout",
     "output_type": "stream",
     "text": [
      
      "Name: Local, dtype: object\n"
     ]
    }
   ],
   "source": [
    "# import's\n",
    "import pandas as pd\n",
    "import numpy as np\n",
    "\n",
    "#Vars para importar planilha\n",
    "excel = pd.read_excel(\"C:/Users/costaar/TesteBI.xlsx\", engine='openpyxl')\n",
    "\n",
    "df_sheet_1 = pd.read_excel(\"C:/Users/costaar/TesteBI.xlsx\",engine='openpyxl', sheet_name='Planilha1')\n",
    "df_sheet_2 = pd.read_excel(\"C:/Users/costaar/TesteBI.xlsx\",engine='openpyxl', sheet_name='Planilha2')\n",
    "resp='S'\n",
    "\n",
    "while True:\n",
    "    resp = input(\"Deseja acessar alguma sheet? [S/N]\")\n",
    "    if (resp=='S') or (resp=='s'):\n",
    "        print(\" \")\n",
    "        print(\"Planilha1\")\n",
    "        print(\"Planilha2\")\n",
    "        print(\"  \")\n",
    "        sheet = str(input(\"Qual sheet deseja acessar?  \"))\n",
    "        if (sheet=='1'):\n",
    "            print(df_sheet_1)\n",
    "            print(\" \")\n",
    "            respCOLUM = input (\"Deseja acessar alguma coluna específica? [S/N]\" )\n",
    "            if (respCOLUM=='s') or (respCOLUM=='S'):\n",
    "                print(\"1.Coluna 1\")\n",
    "                print(\"2.Coluna 2\")\n",
    "                print(\"3.Coluna 3\")\n",
    "                print(\"4.Coluna 4\")\n",
    "                print(\" \")\n",
    "                colum = str(input(\"Digite a coluna que deseja acesar: \"))\n",
    "                if (colum=='1'):\n",
    "                    print(\"Coluna 1: \")\n",
    "                    print(df_sheet_1[\"Razão Social\"])\n",
    "                if (colum=='2'):\n",
    "                    print(\"Coluna 2:\")\n",
    "                    print(df_sheet_1[\"NF\"])\n",
    "                if (colum=='3'):\n",
    "                    print(\"Coluna 3: \")\n",
    "                    print(df_sheet_1[\"Valor\"])\n",
    "                if (colum=='4'):\n",
    "                    print(\"Coluna 4:\")\n",
    "                    print(df_sheet_1[\"Local\"])\n",
    "                
    "            if(respCOLUM=='n') or (respCOLUM=='N'):\n",
    "                break\n",
    "        elif (sheet=='2'):\n",
    "            print(df_sheet_2)\n",
    "            print(\" \")\n",
    "            respCOLUM = input (\"Deseja acessar alguma coluna específica? [S/N] \" )\n",
    "            if (respCOLUM=='s') or (respCOLUM=='S'):\n",
    "              print(\"1.Coluna 1\")\n",
    "                print(\"2.Coluna 2\")\n",
    "                print(\"3.Coluna 3\")\n",
    "                print(\"4.Coluna 4\")\n",
    "                print(' ')\n",
    "                colum = str(input(\"Degite a coluna que deseja acesar: \"))\n",
    "                if (colum=='1'):\n",
    "                    print(\"Coluna 1: \")\n",
    "                    print(df_sheet_2[\"Razão Social\"])\n",
    "                if (colum=='2'):\n",
    "                    print(\"Coluna 2:\")\n",
    "                    print(df_sheet_2[\"NF\"])\n",
    "                if (colum=='3'):\n",
    "                    print(\"Coluna 3: \")\n",
    "                    print(df_sheet_2[\"Valor\"])\n",
    "                if (colum=='4'):\n",
    "                    print(\"Coluna 4:\")\n",
    "                    print(df_sheet_2[\"Local\"])\n",
    "              
    "            if(respCOLUM=='n') or (respCOLUM=='N'):\n",
    "                break\n",
    "    if (resp=='N') or (resp=='n'):\n",
    "        print(\"Programa encerrado!\")\n",
    "        break"
   ]
  },
  {
   "cell_type": "code",
   "execution_count": null,
   "id": "3ffcee5c",
   "metadata": {},
   "outputs": [],
   "source": []
  }
 ],
 "metadata": {
  "kernelspec": {
   "display_name": "Python 3",
   "language": "python",
   "name": "python3"
  },
  "language_info": {
   "codemirror_mode": {
    "name": "ipython",
    "version": 3
   },
   "file_extension": ".py",
   "mimetype": "text/x-python",
   "name": "python",
   "nbconvert_exporter": "python",
   "pygments_lexer": "ipython3",
   "version": "3.8.8"
  }
 },
 "nbformat": 4,
 "nbformat_minor": 5
}
