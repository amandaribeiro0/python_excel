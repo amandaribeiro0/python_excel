{
 "cells": [
  {
   "cell_type": "code",
   "execution_count": 5,
   "id": "f21bd736",
   "metadata": {},
   "outputs": [
    {
     "name": "stdout",
     "output_type": "stream",
     "text": [
      "Deseja acessar alguma sheet? [S/N]s\n",
      "1.Outubro\n",
      "2.Setembro\n",
      "Qual sheet deseja acessar?1\n",
      "1\n",
      "Deseja acessar alguma sheet? [S/N]n\n",
      "Programa encerrado\n"
     ]
    }
   ],
   "source": [
    "# import's\n",
    "import pandas as pd\n",
    "import numpy as np\n",
    "import matplotlib.pyplot as plt\n",
    "\n",
    "def sheet_1 ():\n",
    "    print(\"Outubro: \", df_sheet_1)\n",
    "    \n",
    "def sheet_2():\n",
    "    print(\"Setembro: \")\n",
    "\n",
    "#Var para cada sheet\n",
    "excel = pd.read_excel(\"C:/Users/costaar/TesteBI.xlsx\", engine='openpyxl')\n",
    "\n",
    "df_sheet_1 = pd.read_excel(\"C:/Users/costaar/TesteBI.xlsx\",engine='openpyxl', sheet_name='Planilha1')\n",
    "df_sheet_2 = pd.read_excel(\"C:/Users/costaar/TesteBI.xlsx\",engine='openpyxl', sheet_name='Planilha2')\n",
    "\n",
    "\n",
    "resp='S'\n",
    "sheet = 0\n",
    "while True:\n",
    "    resp = input(\"Deseja acessar alguma sheet? [S/N]\")\n",
    "    \n",
    "    if (resp=='S') or (resp=='s'):\n",
    "        print(\"1.Outubro\")\n",
    "        print(\"2.Setembro\")\n",
    "        sheet = input(\"Qual sheet deseja acessar?\")\n",
    "        print (sheet)\n",
    "    if (sheet==1):\n",
    "        sheet_1()\n",
    "    if (sheet==2):\n",
    "        sheet_2()\n",
    "\n",
    "    if (resp=='n') or (resp=='N'):\n",
    "        print(\"Programa encerrado\")\n",
    "        break"
   ]
  },
  {
   "cell_type": "code",
   "execution_count": null,
   "id": "e420a3d0",
   "metadata": {},
   "outputs": [],
   "source": []
  }
 ],
 "metadata": {
  "kernelspec": {
   "display_name": "Python 3",
   "language": "python",
   "name": "python3"
  },
  "language_info": {
   "codemirror_mode": {
    "name": "ipython",
    "version": 3
   },
   "file_extension": ".py",
   "mimetype": "text/x-python",
   "name": "python",
   "nbconvert_exporter": "python",
   "pygments_lexer": "ipython3",
   "version": "3.8.8"
  }
 },
 "nbformat": 4,
 "nbformat_minor": 5
}
